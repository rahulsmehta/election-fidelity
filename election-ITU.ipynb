{
 "cells": [
  {
   "cell_type": "code",
   "execution_count": 98,
   "metadata": {
    "collapsed": true
   },
   "outputs": [],
   "source": [
    "import pandas as pd\n",
    "import numpy as np\n",
    "\n",
    "itu_mobile = pd.DataFrame.from_csv('mobile_cell_2.csv')\n",
    "itu_mobile = itu_mobile[['2000','2001','2002','2003','2004','2005','2006','2007',\n",
    "                         '2008','2009','2010','2011','2012','2013','2014']]\n"
   ]
  },
  {
   "cell_type": "code",
   "execution_count": 99,
   "metadata": {
    "collapsed": false
   },
   "outputs": [],
   "source": [
    "pop_df = pd.DataFrame.from_csv('sp.pop.totl_Indicator_en_csv_v2.csv')"
   ]
  },
  {
   "cell_type": "code",
   "execution_count": 100,
   "metadata": {
    "collapsed": true
   },
   "outputs": [],
   "source": [
    "ldc = [\"Angola\",\n",
    "\"Madagascar\",\n",
    "\"Benin\",\n",
    "\"Malawi\",\n",
    "\"Burkina Faso\",\n",
    "\"Mali\",\n",
    "\"Burundi\",\n",
    "\"Mauritania\",\n",
    "\"Mozambique\",\n",
    "\"Chad\",\n",
    "\"Niger\",\n",
    "\"Comoros\",\n",
    "\"Rwanda\",\n",
    "\"Congo (Dem. Rep.)\",\n",
    "\"S. Tome & Principe\",\n",
    "\"Djibouti\",\n",
    "\"Senegal\",\n",
    "\"Equatorial Guinea\",\n",
    "\"Sierra Leone\",\n",
    "\"Eritrea\",\n",
    "\"Somalia\",\n",
    "\"Ethiopia\",\n",
    "\"South Sudan\",\n",
    "\"Gambia\",\n",
    "\"Sudan\",\n",
    "\"Guinea\",\n",
    "\"Togo\",\n",
    "\"Guinea-Bissau\",\n",
    "\"Uganda\",\n",
    "\"Lesotho\",\n",
    "\"Tanzania\",\n",
    "\"Liberia\",\n",
    "\"Zambia\",\n",
    "\"Afghanistan\",\n",
    "\"Nepal\",\n",
    "\"Bangladesh\",\n",
    "\"Solomon Islands\",\n",
    "\"Bhutan\",\n",
    "\"Timor-Leste\",\n",
    "\"Cambodia\",\n",
    "\"Tuvalu\",\n",
    "\"Kiribati\",\n",
    "\"Vanuatu\",\n",
    "\"Lao P.D.R.\",\n",
    "\"Yemen\",\n",
    "\"Myanmar\",\n",
    "\"Haiti\"]"
   ]
  },
  {
   "cell_type": "code",
   "execution_count": 101,
   "metadata": {
    "collapsed": true
   },
   "outputs": [],
   "source": [
    "ldc_pop = [\"Angola\",\n",
    "\"Madagascar\",\n",
    "\"Benin\",\n",
    "\"Malawi\",\n",
    "\"Burkina Faso\",\n",
    "\"Mali\",\n",
    "\"Burundi\",\n",
    "\"Mauritania\",\n",
    "\"Mozambique\",\n",
    "\"Chad\",\n",
    "\"Niger\",\n",
    "\"Comoros\",\n",
    "\"Rwanda\",\n",
    "\"Congo, Dem. Rep.\",\n",
    "\"Sao Tome and Principe\",\n",
    "\"Djibouti\",\n",
    "\"Senegal\",\n",
    "\"Equatorial Guinea\",\n",
    "\"Sierra Leone\",\n",
    "\"Eritrea\",\n",
    "\"Somalia\",\n",
    "\"Ethiopia\",\n",
    "\"South Sudan\",\n",
    "\"Gambia, The\",\n",
    "\"Sudan\",\n",
    "\"Guinea\",\n",
    "\"Togo\",\n",
    "\"Guinea-Bissau\",\n",
    "\"Uganda\",\n",
    "\"Lesotho\",\n",
    "\"Tanzania\",\n",
    "\"Liberia\",\n",
    "\"Zambia\",\n",
    "\"Afghanistan\",\n",
    "\"Nepal\",\n",
    "\"Bangladesh\",\n",
    "\"Solomon Islands\",\n",
    "\"Bhutan\",\n",
    "\"Timor-Leste\",\n",
    "\"Cambodia\",\n",
    "\"Tuvalu\",\n",
    "\"Kiribati\",\n",
    "\"Vanuatu\",\n",
    "\"Lao PDR\",\n",
    "\"Yemen, Rep.\",\n",
    "\"Myanmar\",\n",
    "\"Haiti\"]\n"
   ]
  },
  {
   "cell_type": "code",
   "execution_count": 102,
   "metadata": {
    "collapsed": true
   },
   "outputs": [],
   "source": [
    "ldc_pop_df = pop_df[pop_df.index.isin(ldc_pop)]"
   ]
  },
  {
   "cell_type": "code",
   "execution_count": 103,
   "metadata": {
    "collapsed": false
   },
   "outputs": [],
   "source": [
    "def ldc_pop_by_year(year):\n",
    "    return ldc_pop_df[year].sum()"
   ]
  },
  {
   "cell_type": "code",
   "execution_count": 104,
   "metadata": {
    "collapsed": false
   },
   "outputs": [
    {
     "data": {
      "text/plain": [
       "660660039.0"
      ]
     },
     "execution_count": 104,
     "metadata": {},
     "output_type": "execute_result"
    }
   ],
   "source": [
    "ldc_pop_by_year(\"2000\")"
   ]
  },
  {
   "cell_type": "code",
   "execution_count": 105,
   "metadata": {
    "collapsed": false
   },
   "outputs": [],
   "source": [
    "m_stack = itu_mobile.stack()"
   ]
  },
  {
   "cell_type": "code",
   "execution_count": 106,
   "metadata": {
    "collapsed": false
   },
   "outputs": [],
   "source": [
    "for k,v in m_stack.iteritems():\n",
    "    m_stack[k] = int(v.replace(',',''))"
   ]
  },
  {
   "cell_type": "code",
   "execution_count": 107,
   "metadata": {
    "collapsed": false
   },
   "outputs": [],
   "source": [
    "def ldc_total_phone_by_year(year):\n",
    "    val = 0\n",
    "    for c in ldc:\n",
    "        try:\n",
    "#             print c\n",
    "            val += m_stack[c][year]\n",
    "        except:\n",
    "            print c\n",
    "    return val\n",
    "\n",
    "def prevalence_year(year):\n",
    "    return ldc_total_phone_by_year(year)/ldc_pop_by_year(year)"
   ]
  },
  {
   "cell_type": "code",
   "execution_count": 162,
   "metadata": {
    "collapsed": false
   },
   "outputs": [
    {
     "name": "stdout",
     "output_type": "stream",
     "text": [
      "Sierra Leone\n",
      "South Sudan\n",
      "Guinea\n"
     ]
    },
    {
     "data": {
      "text/plain": [
       "0.088955138004260872"
      ]
     },
     "execution_count": 162,
     "metadata": {},
     "output_type": "execute_result"
    }
   ],
   "source": [
    "prevalence_year(\"2006\")"
   ]
  },
  {
   "cell_type": "code",
   "execution_count": 114,
   "metadata": {
    "collapsed": false
   },
   "outputs": [],
   "source": [
    "pop_stack = pop_df.stack()"
   ]
  },
  {
   "cell_type": "code",
   "execution_count": 163,
   "metadata": {
    "collapsed": false
   },
   "outputs": [
    {
     "data": {
      "text/plain": [
       "0.12753097169354435"
      ]
     },
     "execution_count": 163,
     "metadata": {},
     "output_type": "execute_result"
    }
   ],
   "source": [
    "m_stack[\"Haiti\"][\"2006\"]/pop_stack[\"Haiti\"][\"2006\"]"
   ]
  },
  {
   "cell_type": "code",
   "execution_count": 145,
   "metadata": {
    "collapsed": false
   },
   "outputs": [
    {
     "name": "stdout",
     "output_type": "stream",
     "text": [
      "Cote d'Ivoire\n"
     ]
    }
   ],
   "source": [
    "for p in itu_mobile.index:\n",
    "    if \"Cote\" in p:\n",
    "        print p"
   ]
  },
  {
   "cell_type": "code",
   "execution_count": null,
   "metadata": {
    "collapsed": true
   },
   "outputs": [],
   "source": []
  }
 ],
 "metadata": {
  "kernelspec": {
   "display_name": "Python 2",
   "language": "python",
   "name": "python2"
  },
  "language_info": {
   "codemirror_mode": {
    "name": "ipython",
    "version": 2
   },
   "file_extension": ".py",
   "mimetype": "text/x-python",
   "name": "python",
   "nbconvert_exporter": "python",
   "pygments_lexer": "ipython2",
   "version": "2.7.10"
  }
 },
 "nbformat": 4,
 "nbformat_minor": 0
}
